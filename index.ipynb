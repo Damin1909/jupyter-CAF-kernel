{
 "cells": [
  {
   "cell_type": "markdown",
   "metadata": {},
   "source": [
    "# Coarray Fortran Jupyter notebook kernel\n",
    "\n",
    "- GFortran\n",
    "- OpenCoarrays\n",
    "- MPICH backend"
   ]
  },
  {
   "cell_type": "code",
   "execution_count": 1,
   "metadata": {},
   "outputs": [
    {
     "name": "stdout",
     "output_type": "stream",
     "text": [
      "GNU Fortran (GCC) 7.1.0\n",
      "Copyright (C) 2017 Free Software Foundation, Inc.\n",
      "This is free software; see the source for copying conditions.  There is NO\n",
      "warranty; not even for MERCHANTABILITY or FITNESS FOR A PARTICULAR PURPOSE.\n",
      "\n",
      "\n",
      "OpenCoarrays Coarray Fortran Compiler Wrapper (caf version 1.9.0)\n",
      "Copyright (C) 2015-2016 Sourcery, Inc.\n",
      "\n",
      "OpenCoarrays comes with NO WARRANTY, to the extent permitted by law.\n",
      "You may redistribute copies of OpenCoarrays under the terms of the\n",
      "BSD 3-Clause License.  For more information about these matters, see\n",
      "the file named LICENSE.\n",
      "\n",
      "HYDRA build details:\n",
      "    Version:                                 3.2\n",
      "    Release Date:                            Wed Nov 11 22:06:48 CST 2015\n",
      "    CC:                              /usr/local/bin/gcc    \n",
      "    CXX:                             /usr/local/bin/g++    \n",
      "    F77:                             /usr/local/bin/gfortran   \n",
      "    F90:                             /usr/local/bin/gfortran   \n",
      "    Configure options:                       '--disable-option-checking' '--prefix=/usr/local' 'CC=/usr/local/bin/gcc' 'CXX=/usr/local/bin/g++' 'FC=/usr/local/bin/gfortran' '--cache-file=/dev/null' '--srcdir=/home/jovyan/OpenCoarrays-1.9.0/prerequisites/downloads/mpich-3.2/src/pm/hydra' 'CFLAGS= -O2' 'LDFLAGS=' 'LIBS=-lpthread ' 'CPPFLAGS= -I/home/jovyan/OpenCoarrays-1.9.0/prerequisites/builds/mpich-3.2/src/mpl/include -I/home/jovyan/OpenCoarrays-1.9.0/prerequisites/downloads/mpich-3.2/src/mpl/include -I/home/jovyan/OpenCoarrays-1.9.0/prerequisites/downloads/mpich-3.2/src/openpa/src -I/home/jovyan/OpenCoarrays-1.9.0/prerequisites/builds/mpich-3.2/src/openpa/src -D_REENTRANT -I/home/jovyan/OpenCoarrays-1.9.0/prerequisites/builds/mpich-3.2/src/mpi/romio/include'\n",
      "    Process Manager:                         pmi\n",
      "    Launchers available:                     ssh rsh fork slurm ll lsf sge manual persist\n",
      "    Topology libraries available:            hwloc\n",
      "    Resource management kernels available:   user slurm ll lsf sge pbs cobalt\n",
      "    Checkpointing libraries available:       \n",
      "    Demux engines available:                 poll select\n"
     ]
    }
   ],
   "source": [
    "!gfortran --version\n",
    "!caf --version\n",
    "!mpirun --version"
   ]
  }
 ],
 "metadata": {
  "kernelspec": {
   "display_name": "Python 3",
   "language": "python",
   "name": "python3"
  },
  "language_info": {
   "codemirror_mode": {
    "name": "ipython",
    "version": 3
   },
   "file_extension": ".py",
   "mimetype": "text/x-python",
   "name": "python",
   "nbconvert_exporter": "python",
   "pygments_lexer": "ipython3",
   "version": "3.5.2"
  }
 },
 "nbformat": 4,
 "nbformat_minor": 2
}
